{
 "cells": [
  {
   "cell_type": "code",
   "execution_count": 2,
   "id": "ad8fe0c8-ddfa-497b-907e-53dfa3c2de31",
   "metadata": {
    "scrolled": true
   },
   "outputs": [
    {
     "ename": "ModuleNotFoundError",
     "evalue": "No module named 'ulid'",
     "output_type": "error",
     "traceback": [
      "\u001b[0;31m---------------------------------------------------------------------------\u001b[0m",
      "\u001b[0;31mModuleNotFoundError\u001b[0m                       Traceback (most recent call last)",
      "Cell \u001b[0;32mIn[2], line 8\u001b[0m\n\u001b[1;32m      6\u001b[0m \u001b[38;5;28;01mfrom\u001b[39;00m \u001b[38;5;21;01mlangchain\u001b[39;00m\u001b[38;5;21;01m.\u001b[39;00m\u001b[38;5;21;01mschema\u001b[39;00m \u001b[38;5;28;01mimport\u001b[39;00m AIMessage, HumanMessage, SystemMessage\n\u001b[1;32m      7\u001b[0m \u001b[38;5;28;01mfrom\u001b[39;00m \u001b[38;5;21;01mlangchain_community\u001b[39;00m\u001b[38;5;21;01m.\u001b[39;00m\u001b[38;5;21;01mchat_models\u001b[39;00m \u001b[38;5;28;01mimport\u001b[39;00m GigaChat\n\u001b[0;32m----> 8\u001b[0m \u001b[38;5;28;01mfrom\u001b[39;00m \u001b[38;5;21;01mshared\u001b[39;00m\u001b[38;5;21;01m.\u001b[39;00m\u001b[38;5;21;01mcontainers\u001b[39;00m \u001b[38;5;28;01mimport\u001b[39;00m init_combat_container\n\u001b[1;32m      9\u001b[0m \u001b[38;5;28;01mfrom\u001b[39;00m \u001b[38;5;21;01mtqdm\u001b[39;00m \u001b[38;5;28;01mimport\u001b[39;00m tqdm\n\u001b[1;32m     11\u001b[0m contaniner \u001b[38;5;241m=\u001b[39m init_combat_container()\n",
      "File \u001b[0;32m~/moscow_travel_hack_ecom_240323/backend/shared/containers.py:3\u001b[0m\n\u001b[1;32m      1\u001b[0m \u001b[38;5;28;01mfrom\u001b[39;00m \u001b[38;5;21;01mdataclasses\u001b[39;00m \u001b[38;5;28;01mimport\u001b[39;00m dataclass\n\u001b[0;32m----> 3\u001b[0m \u001b[38;5;28;01mfrom\u001b[39;00m \u001b[38;5;21;01mrepository\u001b[39;00m\u001b[38;5;21;01m.\u001b[39;00m\u001b[38;5;21;01mpg_repository\u001b[39;00m \u001b[38;5;28;01mimport\u001b[39;00m PgRepository\n\u001b[1;32m      4\u001b[0m \u001b[38;5;28;01mfrom\u001b[39;00m \u001b[38;5;21;01mrepository\u001b[39;00m\u001b[38;5;21;01m.\u001b[39;00m\u001b[38;5;21;01mredis_repository\u001b[39;00m \u001b[38;5;28;01mimport\u001b[39;00m RedisRepository\n\u001b[1;32m      5\u001b[0m \u001b[38;5;28;01mfrom\u001b[39;00m \u001b[38;5;21;01mservice\u001b[39;00m\u001b[38;5;21;01m.\u001b[39;00m\u001b[38;5;21;01mchat_service\u001b[39;00m \u001b[38;5;28;01mimport\u001b[39;00m ChatService\n",
      "File \u001b[0;32m~/moscow_travel_hack_ecom_240323/backend/repository/pg_repository.py:8\u001b[0m\n\u001b[1;32m      6\u001b[0m \u001b[38;5;28;01mfrom\u001b[39;00m \u001b[38;5;21;01mlangchain_core\u001b[39;00m\u001b[38;5;21;01m.\u001b[39;00m\u001b[38;5;21;01mvectorstores\u001b[39;00m \u001b[38;5;28;01mimport\u001b[39;00m VectorStoreRetriever\n\u001b[1;32m      7\u001b[0m \u001b[38;5;28;01mfrom\u001b[39;00m \u001b[38;5;21;01mlangchain_text_splitters\u001b[39;00m \u001b[38;5;28;01mimport\u001b[39;00m RecursiveCharacterTextSplitter\n\u001b[0;32m----> 8\u001b[0m \u001b[38;5;28;01mfrom\u001b[39;00m \u001b[38;5;21;01mpersistence\u001b[39;00m\u001b[38;5;21;01m.\u001b[39;00m\u001b[38;5;21;01mdatabase\u001b[39;00m \u001b[38;5;28;01mimport\u001b[39;00m Event \u001b[38;5;28;01mas\u001b[39;00m EventDB\n\u001b[1;32m      9\u001b[0m \u001b[38;5;28;01mfrom\u001b[39;00m \u001b[38;5;21;01mpydantic\u001b[39;00m \u001b[38;5;28;01mimport\u001b[39;00m ValidationError\n\u001b[1;32m     10\u001b[0m \u001b[38;5;28;01mfrom\u001b[39;00m \u001b[38;5;21;01mschemas\u001b[39;00m\u001b[38;5;21;01m.\u001b[39;00m\u001b[38;5;21;01mevent\u001b[39;00m \u001b[38;5;28;01mimport\u001b[39;00m Event, Events, EventType\n",
      "File \u001b[0;32m~/moscow_travel_hack_ecom_240323/backend/persistence/database.py:1\u001b[0m\n\u001b[0;32m----> 1\u001b[0m \u001b[38;5;28;01mfrom\u001b[39;00m \u001b[38;5;21;01mshared\u001b[39;00m\u001b[38;5;21;01m.\u001b[39;00m\u001b[38;5;21;01mulid\u001b[39;00m \u001b[38;5;28;01mimport\u001b[39;00m ulid_as_uuid\n\u001b[1;32m      2\u001b[0m \u001b[38;5;28;01mfrom\u001b[39;00m \u001b[38;5;21;01msqlalchemy\u001b[39;00m \u001b[38;5;28;01mimport\u001b[39;00m DECIMAL, FLOAT, TEXT, BigInteger, Column, MetaData\n\u001b[1;32m      3\u001b[0m \u001b[38;5;28;01mfrom\u001b[39;00m \u001b[38;5;21;01msqlalchemy\u001b[39;00m\u001b[38;5;21;01m.\u001b[39;00m\u001b[38;5;21;01mdialects\u001b[39;00m\u001b[38;5;21;01m.\u001b[39;00m\u001b[38;5;21;01mpostgresql\u001b[39;00m \u001b[38;5;28;01mimport\u001b[39;00m ARRAY, UUID\n",
      "File \u001b[0;32m~/moscow_travel_hack_ecom_240323/backend/shared/ulid.py:3\u001b[0m\n\u001b[1;32m      1\u001b[0m \u001b[38;5;28;01mimport\u001b[39;00m \u001b[38;5;21;01muuid\u001b[39;00m\n\u001b[0;32m----> 3\u001b[0m \u001b[38;5;28;01mimport\u001b[39;00m \u001b[38;5;21;01mulid\u001b[39;00m\n\u001b[1;32m      6\u001b[0m \u001b[38;5;28;01mdef\u001b[39;00m \u001b[38;5;21mulid_as_uuid\u001b[39m() \u001b[38;5;241m-\u001b[39m\u001b[38;5;241m>\u001b[39m uuid\u001b[38;5;241m.\u001b[39mUUID:\n\u001b[1;32m      7\u001b[0m     \u001b[38;5;28;01mreturn\u001b[39;00m ulid\u001b[38;5;241m.\u001b[39mnew()\u001b[38;5;241m.\u001b[39muuid\n",
      "\u001b[0;31mModuleNotFoundError\u001b[0m: No module named 'ulid'"
     ]
    }
   ],
   "source": [
    "import json\n",
    "\n",
    "from langchain.chat_models.gigachat import GigaChat\n",
    "from langchain.docstore.document import Document\n",
    "from langchain.prompts import load_prompt\n",
    "from langchain.schema import AIMessage, HumanMessage, SystemMessage\n",
    "from langchain_community.chat_models import GigaChat\n",
    "from shared.containers import init_combat_container\n",
    "from tqdm import tqdm\n",
    "\n",
    "contaniner = init_combat_container()\n",
    "# Авторизация в сервисе GigaChat\n",
    "chat = GigaChat(\n",
    "    credentials=gigachat_settings.auth_key, model=\"GigaChat\", verify_ssl_certs=False\n",
    ")"
   ]
  },
  {
   "cell_type": "code",
   "execution_count": null,
   "id": "79811fa8-de48-4713-8768-08505f9945a3",
   "metadata": {},
   "outputs": [],
   "source": []
  },
  {
   "cell_type": "code",
   "execution_count": 2,
   "id": "c31ede2a-4279-40c4-b6a6-b8be8615cae4",
   "metadata": {},
   "outputs": [],
   "source": [
    "data = json.load(open(\"./with_reviews.json\", \"r\"))"
   ]
  },
  {
   "cell_type": "code",
   "execution_count": 3,
   "id": "ceb7d6ab-9d05-420f-9b23-5b9ef7900e06",
   "metadata": {},
   "outputs": [],
   "source": [
    "documents = []\n",
    "for event_type, i in data.items():\n",
    "    for k in i:\n",
    "        doc = Document(\n",
    "            page_content=k[\"description\"],\n",
    "            metadata={\n",
    "                \"event_type\": event_type,\n",
    "                \"name\": k[\"name\"],\n",
    "                \"price\": k.get(\"price\", \"\"),\n",
    "                \"type\": k.get(\"type\", []),\n",
    "                \"location\": k.get(\"location\", \"\"),\n",
    "            },\n",
    "        )\n",
    "        documents.append(doc)"
   ]
  },
  {
   "cell_type": "code",
   "execution_count": 4,
   "id": "aa7146ef-b262-46b4-a05e-bbe71f0a6f48",
   "metadata": {},
   "outputs": [
    {
     "name": "stderr",
     "output_type": "stream",
     "text": [
      "/root/.cache/pypoetry/virtualenvs/ml-aFQUMGxw-py3.10/lib/python3.10/site-packages/langchain_community/vectorstores/pgvector.py:294: LangChainPendingDeprecationWarning: Please use JSONB instead of JSON for metadata. This change will allow for more efficient querying that involves filtering based on metadata.Please note that filtering operators have been changed when using JSOB metadata to be prefixed with a $ sign to avoid name collisions with columns. If you're using an existing database, you will need to create adb migration for your metadata column to be JSONB and update your queries to use the new operators. \n",
      "  warn_deprecated(\n"
     ]
    }
   ],
   "source": [
    "rm = RetrievalManager()\n",
    "# rm.store.drop_tables()\n",
    "# rm.add_documents_from_strings(texts, metadatas)"
   ]
  },
  {
   "cell_type": "code",
   "execution_count": 5,
   "id": "f0e58d85-1e0d-4d9f-a91f-a4b0e63e7510",
   "metadata": {},
   "outputs": [],
   "source": [
    "rm.add_documents(documents)"
   ]
  },
  {
   "cell_type": "code",
   "execution_count": 6,
   "id": "cb924006-3639-4cd2-af39-cdac11b6fd85",
   "metadata": {},
   "outputs": [],
   "source": [
    "query = \"блины в москве\"\n",
    "doc = rm.retrieve_most_relevant_document(\"блины в москве\")"
   ]
  },
  {
   "cell_type": "code",
   "execution_count": 3,
   "id": "35576380-f5b1-4020-ab71-4a7dfcdf2c4e",
   "metadata": {},
   "outputs": [],
   "source": [
    "from typing import Any\n",
    "\n",
    "from langchain.prompts import PromptTemplate, load_prompt\n",
    "from langchain_core.messages import AIMessage, BaseMessage, HumanMessage, SystemMessage\n",
    "from src.mthe_ml.classify_event_type import generate_messages_for_chat as gclass"
   ]
  },
  {
   "cell_type": "code",
   "execution_count": 4,
   "id": "aca81dcb-fd80-4d27-b5a7-ba1fef7f2b7a",
   "metadata": {},
   "outputs": [
    {
     "name": "stderr",
     "output_type": "stream",
     "text": [
      "/root/.cache/pypoetry/virtualenvs/ml-aFQUMGxw-py3.10/lib/python3.10/site-packages/langchain_core/_api/deprecation.py:117: LangChainDeprecationWarning: The function `__call__` was deprecated in LangChain 0.1.7 and will be removed in 0.2.0. Use invoke instead.\n",
      "  warn_deprecated(\n"
     ]
    },
    {
     "data": {
      "text/plain": [
       "AIMessage(content='Спортзал', response_metadata={'token_usage': Usage(prompt_tokens=110, completion_tokens=4, total_tokens=114), 'model_name': 'GigaChat:3.1.24.3', 'finish_reason': 'stop'})"
      ]
     },
     "execution_count": 4,
     "metadata": {},
     "output_type": "execute_result"
    }
   ],
   "source": [
    "chat(gclass(\"спортзал\", [\"Ресторан\"]))"
   ]
  },
  {
   "cell_type": "code",
   "execution_count": 14,
   "id": "074266cc-7151-4894-b680-928e23b2c92d",
   "metadata": {},
   "outputs": [],
   "source": [
    "from src.mthe_ml.summarizer import summarize"
   ]
  },
  {
   "cell_type": "code",
   "execution_count": 18,
   "id": "d494fd77-ad73-4cd8-afec-e7b78ef0a1b6",
   "metadata": {},
   "outputs": [
    {
     "data": {
      "text/plain": [
       "{'input_documents': [Document(page_content='\"Очень интересный макет космического корабля \"Буран\" на ВДНХ. Я с удовольствием поучаствовал в интерактивном аттракционе и попробовал себя в роли летчика-испытателя на симуляторе приземления. Рекомендую посетить этот музей всем'),\n",
       "  Document(page_content='приземления. Рекомендую посетить этот музей всем любителям космоса и техники!\"'),\n",
       "  Document(page_content='\"Очень интересный макет космического корабля \"Буран\" на ВДНХ. Я с удовольствием поучаствовал в интерактивном аттракционе и попробовал себя в роли летчика-испытателя на симуляторе приземления. Рекомендую посетить этот музей всем'),\n",
       "  Document(page_content='приземления. Рекомендую посетить этот музей всем любителям космоса и техники!\"'),\n",
       "  Document(page_content='\"Очень интересный макет космического корабля \"Буран\" на ВДНХ. Я с удовольствием поучаствовал в интерактивном аттракционе и попробовал борщ в тюбиках. Рекомендую посетить этот музей всем любителям космоса!\"'),\n",
       "  Document(page_content='\"Очень интересный макет космического корабля \"Буран\" на ВДНХ. Я получил удовольствие от интерактивного аттракциона и музея, где узнал много нового о ракетостроении. Особенно понравился симулятор приземления \"Бурана\" на космодром Байконур.\"'),\n",
       "  Document(page_content='\"Очень интересный макет космического корабля \"Буран\" на ВДНХ. Я с удовольствием поучаствовал в интерактивном аттракционе и попробовал себя в роли летчика-испытателя на симуляторе приземления. Рекомендую посетить этот музей всем'),\n",
       "  Document(page_content='приземления. Рекомендую посетить этот музей всем любителям космоса и техники!\"')],\n",
       " 'output_text': '\"интерактивный аттракцион\", \"музей космоса\", \"симулятор приземления\".'}"
      ]
     },
     "execution_count": 18,
     "metadata": {},
     "output_type": "execute_result"
    }
   ],
   "source": [
    "summarize(chat, data[\"events\"][0][\"reviews\"])"
   ]
  },
  {
   "cell_type": "code",
   "execution_count": null,
   "id": "41c6eb2d-a8c5-44c1-92f4-6cb9b0620d2d",
   "metadata": {},
   "outputs": [],
   "source": []
  }
 ],
 "metadata": {
  "kernelspec": {
   "display_name": "ml",
   "language": "python",
   "name": "ml"
  },
  "language_info": {
   "codemirror_mode": {
    "name": "ipython",
    "version": 3
   },
   "file_extension": ".py",
   "mimetype": "text/x-python",
   "name": "python",
   "nbconvert_exporter": "python",
   "pygments_lexer": "ipython3",
   "version": "3.10.12"
  }
 },
 "nbformat": 4,
 "nbformat_minor": 5
}
