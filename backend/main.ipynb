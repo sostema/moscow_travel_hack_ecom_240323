{
 "cells": [
  {
   "cell_type": "code",
   "execution_count": 3,
   "metadata": {},
   "outputs": [],
   "source": [
    "import random\n",
    "\n",
    "import ujson\n",
    "from schemas.event import Event, Events, EventType\n",
    "from shared.containers import init_combat_container\n",
    "from shared.ulid import ulid_as_uuid"
   ]
  },
  {
   "cell_type": "code",
   "execution_count": 18,
   "metadata": {},
   "outputs": [],
   "source": [
    "container = init_combat_container()"
   ]
  },
  {
   "cell_type": "code",
   "execution_count": 23,
   "metadata": {},
   "outputs": [
    {
     "data": {
      "text/plain": [
       "(9, 72)"
      ]
     },
     "execution_count": 23,
     "metadata": {},
     "output_type": "execute_result"
    }
   ],
   "source": [
    "cite_data = ujson.loads(open(\"cite_data.json\").read())\n",
    "restaurants = cite_data[\"restaurants\"]\n",
    "events = cite_data[\"events\"]\n",
    "len(restaurants), len(events)"
   ]
  },
  {
   "cell_type": "code",
   "execution_count": 24,
   "metadata": {},
   "outputs": [
    {
     "data": {
      "text/plain": [
       "72"
      ]
     },
     "execution_count": 24,
     "metadata": {},
     "output_type": "execute_result"
    }
   ],
   "source": [
    "events_parsed = []\n",
    "for event in events:\n",
    "    event[\"id\"] = ulid_as_uuid()\n",
    "    event[\"type\"] = EventType.EVENT\n",
    "    event[\"lat\"] = event.get(\"latitude\")\n",
    "    event[\"lng\"] = event.get(\"longitude\")\n",
    "    event[\"img_url\"] = random.choice(\n",
    "        [\n",
    "            \"https://russpass.ru/mesta-i-sobytiya/_next/image?url=https%3A%2F%2Fcms.russpass.ru%2Fv1%2Ffile%2F65420ad0d2b6381af066b9f9%2F924&w=3840&q=75\",\n",
    "            \"https://russpass.ru/mesta-i-sobytiya/_next/image?url=https%3A%2F%2Fcms.russpass.ru%2Fv1%2Ffile%2F65420b82d2b6381af066dba8%2F924&w=3840&q=75\",\n",
    "            \"https://russpass.ru/mesta-i-sobytiya/_next/image?url=https%3A%2F%2Fcms.russpass.ru%2Fv1%2Ffile%2F652400ac2faec1be5888a10a%2F924&w=3840&q=75\",\n",
    "            \"https://russpass.ru/mesta-i-sobytiya/_next/image?url=https%3A%2F%2Fcms.russpass.ru%2Fv1%2Ffile%2F623982d6994c9997315b67ab%2F924&w=3840&q=75\",\n",
    "            \"https://russpass.ru/mesta-i-sobytiya/_next/image?url=https%3A%2F%2Fcms.russpass.ru%2Fv1%2Ffile%2F623982c6994c9997315b66ff%2F924&w=3840&q=75\",\n",
    "            \"https://russpass.ru/mesta-i-sobytiya/_next/image?url=https%3A%2F%2Fcms.russpass.ru%2Fv1%2Ffile%2F623982da98e199bbd30c92c1%2F924&w=3840&q=75\",\n",
    "            \"https://russpass.ru/mesta-i-sobytiya/_next/image?url=https%3A%2F%2Fcms.russpass.ru%2Fv1%2Ffile%2F660fcfe8e6f042f1b71d4dd3%2F924&w=3840&q=75\",\n",
    "            \"https://russpass.ru/mesta-i-sobytiya/_next/image?url=https%3A%2F%2Fcms.russpass.ru%2Fv1%2Ffile%2F660a8004e8caad7a6aba7062%2F924&w=3840&q=75\",\n",
    "            \"https://russpass.ru/mesta-i-sobytiya/_next/image?url=https%3A%2F%2Fcms.russpass.ru%2Fv1%2Ffile%2F65b39ea810de61faf900dd4f%2F924&w=3840&q=75\",\n",
    "        ]\n",
    "    )\n",
    "    events_parsed.append(Event.parse_obj(event))\n",
    "\n",
    "len(events_parsed)"
   ]
  },
  {
   "cell_type": "code",
   "execution_count": 25,
   "metadata": {},
   "outputs": [
    {
     "data": {
      "text/plain": [
       "[['Испанская'],\n",
       " ['Русская'],\n",
       " ['Итальянская', 'Европейская', 'Авторская'],\n",
       " ['Русская'],\n",
       " ['Авторская', 'Кавказская'],\n",
       " ['Грузинская'],\n",
       " ['Русская'],\n",
       " ['Европейская', 'Японская', 'Паназиатская', 'Китайская'],\n",
       " ['Грузинская']]"
      ]
     },
     "execution_count": 25,
     "metadata": {},
     "output_type": "execute_result"
    }
   ],
   "source": [
    "restaurants_parsed = []\n",
    "for restaurant in restaurants:\n",
    "    restaurant[\"id\"] = ulid_as_uuid()\n",
    "    restaurant[\"restaurant_type\"] = restaurant.get(\"type\")\n",
    "    restaurant[\"type\"] = EventType.RESTAURANT\n",
    "    restaurant[\"lat\"] = restaurant.get(\"latitude\")\n",
    "    restaurant[\"lng\"] = restaurant.get(\"longitude\")\n",
    "    restaurant[\"img_url\"] = random.choice(\n",
    "        [\n",
    "            \"https://cms.russpass.ru/v1/file/657aed9a3796b43717403233\",\n",
    "            \"https://cms.russpass.ru/v1/file/657aed9a3796b43717403213\",\n",
    "            \"https://cms.russpass.ru/v1/file/658159e398923097942d3731\",\n",
    "        ]\n",
    "    )\n",
    "    restaurants_parsed.append(Event.parse_obj(restaurant))\n",
    "\n",
    "len(restaurants_parsed)\n",
    "[restaurants.restaurant_type for restaurants in restaurants_parsed]"
   ]
  },
  {
   "cell_type": "code",
   "execution_count": null,
   "metadata": {},
   "outputs": [],
   "source": [
    "events = Events(events=restaurants_parsed + events_parsed)"
   ]
  },
  {
   "cell_type": "code",
   "execution_count": 21,
   "metadata": {},
   "outputs": [],
   "source": [
    "container.heath_service.pg_repository.insert_events(events)"
   ]
  },
  {
   "cell_type": "code",
   "execution_count": 19,
   "metadata": {},
   "outputs": [
    {
     "ename": "TypeError",
     "evalue": "object of type 'Events' has no len()",
     "output_type": "error",
     "traceback": [
      "\u001b[0;31m---------------------------------------------------------------------------\u001b[0m",
      "\u001b[0;31mTypeError\u001b[0m                                 Traceback (most recent call last)",
      "Cell \u001b[0;32mIn[19], line 1\u001b[0m\n\u001b[0;32m----> 1\u001b[0m \u001b[38;5;28;43mlen\u001b[39;49m\u001b[43m(\u001b[49m\u001b[43mcontainer\u001b[49m\u001b[38;5;241;43m.\u001b[39;49m\u001b[43mheath_service\u001b[49m\u001b[38;5;241;43m.\u001b[39;49m\u001b[43mpg_repository\u001b[49m\u001b[38;5;241;43m.\u001b[39;49m\u001b[43mget_events\u001b[49m\u001b[43m(\u001b[49m\u001b[43m)\u001b[49m\u001b[43m)\u001b[49m\n",
      "\u001b[0;31mTypeError\u001b[0m: object of type 'Events' has no len()"
     ]
    }
   ],
   "source": [
    "len(container.heath_service.pg_repository.get_events())"
   ]
  },
  {
   "cell_type": "code",
   "execution_count": null,
   "metadata": {},
   "outputs": [],
   "source": []
  }
 ],
 "metadata": {
  "kernelspec": {
   "display_name": "Python 3 (ipykernel)",
   "language": "python",
   "name": "python3"
  },
  "language_info": {
   "codemirror_mode": {
    "name": "ipython",
    "version": 3
   },
   "file_extension": ".py",
   "mimetype": "text/x-python",
   "name": "python",
   "nbconvert_exporter": "python",
   "pygments_lexer": "ipython3",
   "version": "3.11.7"
  }
 },
 "nbformat": 4,
 "nbformat_minor": 4
}
