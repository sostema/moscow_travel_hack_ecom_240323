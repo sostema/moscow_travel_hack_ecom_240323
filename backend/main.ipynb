{
 "cells": [
  {
   "cell_type": "code",
   "execution_count": 1,
   "metadata": {},
   "outputs": [],
   "source": [
    "import random\n",
    "\n",
    "import ujson\n",
    "from langchain.docstore.document import Document\n",
    "from schemas.event import Event, Events, EventType\n",
    "from shared.containers import init_combat_container\n",
    "from shared.ulid import ulid_as_uuid"
   ]
  },
  {
   "cell_type": "code",
   "execution_count": 2,
   "metadata": {},
   "outputs": [
    {
     "name": "stderr",
     "output_type": "stream",
     "text": [
      "/Users/teadove/projects/moscow_travel_hack_ecom_240323/backend/.venv/lib/python3.11/site-packages/tqdm/auto.py:21: TqdmWarning: IProgress not found. Please update jupyter and ipywidgets. See https://ipywidgets.readthedocs.io/en/stable/user_install.html\n",
      "  from .autonotebook import tqdm as notebook_tqdm\n",
      "/Users/teadove/projects/moscow_travel_hack_ecom_240323/backend/.venv/lib/python3.11/site-packages/langchain_community/vectorstores/pgvector.py:293: LangChainPendingDeprecationWarning: Please use JSONB instead of JSON for metadata. This change will allow for more efficient querying that involves filtering based on metadata.Please note that filtering operators have been changed when using JSOB metadata to be prefixed with a $ sign to avoid name collisions with columns. If you're using an existing database, you will need to create adb migration for your metadata column to be JSONB and update your queries to use the new operators. \n",
      "  warn_deprecated(\n"
     ]
    }
   ],
   "source": [
    "container = init_combat_container()"
   ]
  },
  {
   "cell_type": "code",
   "execution_count": 3,
   "metadata": {},
   "outputs": [
    {
     "data": {
      "text/plain": [
       "(9, 72)"
      ]
     },
     "execution_count": 3,
     "metadata": {},
     "output_type": "execute_result"
    }
   ],
   "source": [
    "cite_data = ujson.loads(open(\"cite_data.json\").read())\n",
    "restaurants = cite_data[\"restaurants\"]\n",
    "events = cite_data[\"events\"]\n",
    "reviews = ujson.loads(open(\"ml/data/with_reviews.json\").read())\n",
    "len(restaurants), len(events)"
   ]
  },
  {
   "cell_type": "code",
   "execution_count": 4,
   "metadata": {},
   "outputs": [
    {
     "data": {
      "text/plain": [
       "['Музей ВДНХ - это уникальное место, где можно окунуться в историю и атмосферу советского времени. Здесь собраны редкие фотографии, чертежи павильонов и другие экспонаты, которые позволяют почувствовать дух того времени. Я рекомендую посетить этот музей всем, кто интересуется историей и культурой СССР.',\n",
       " 'Музей ВДНХ - это уникальное место, где можно окунуться в историю и атмосферу советского времени. Здесь собраны редкие фотографии, чертежи павильонов и другие экспонаты, которые позволяют почувствовать дух того времени. Я рекомендую посетить этот музей всем, кто интересуется историей и культурой СССР.',\n",
       " 'Музей ВДНХ - это уникальное место, где можно окунуться в историю и атмосферу советского времени. Здесь собраны редкие фотографии, чертежи павильонов и другие экспонаты, которые позволяют почувствовать дух того времени. Я рекомендую посетить этот музей всем, кто интересуется историей и культурой СССР.',\n",
       " 'Музей ВДНХ - это уникальное место, где можно окунуться в историю и атмосферу советского времени. Здесь собраны редкие фотографии, чертежи павильонов и другие экспонаты, которые позволяют почувствовать дух того времени. Я рекомендую посетить этот музей всем, кто интересуется историей и культурой СССР.',\n",
       " 'Музей ВДНХ - это уникальное место, где можно окунуться в историю и атмосферу советского времени. Здесь собраны редкие фотографии, чертежи павильонов и другие экспонаты, которые позволяют почувствовать дух того времени. Я рекомендую посетить этот музей всем, кто интересуется историей и культурой СССР.']"
      ]
     },
     "execution_count": 4,
     "metadata": {},
     "output_type": "execute_result"
    }
   ],
   "source": [
    "name_to_reviews = reviews[\"restaurants\"] + reviews[\"events\"]\n",
    "name_to_reviews = {\n",
    "    reviews[\"name\"]: reviews for reviews in reviews[\"restaurants\"] + reviews[\"events\"]\n",
    "}\n",
    "len(name_to_reviews)\n",
    "\n",
    "name_to_reviews[\"Музей ВДНХ\"][\"reviews\"]"
   ]
  },
  {
   "cell_type": "code",
   "execution_count": 5,
   "metadata": {},
   "outputs": [
    {
     "data": {
      "text/plain": [
       "72"
      ]
     },
     "execution_count": 5,
     "metadata": {},
     "output_type": "execute_result"
    }
   ],
   "source": [
    "events_parsed = []\n",
    "for event in events:\n",
    "    event[\"id\"] = ulid_as_uuid()\n",
    "    event[\"type\"] = EventType.EVENT\n",
    "    event[\"lat\"] = event.get(\"latitude\")\n",
    "    event[\"lng\"] = event.get(\"longitude\")\n",
    "    event[\"img_link\"] = random.choice(\n",
    "        [\n",
    "            \"https://russpass.ru/mesta-i-sobytiya/_next/image?url=https%3A%2F%2Fcms.russpass.ru%2Fv1%2Ffile%2F65420ad0d2b6381af066b9f9%2F924&w=3840&q=75\",\n",
    "            \"https://russpass.ru/mesta-i-sobytiya/_next/image?url=https%3A%2F%2Fcms.russpass.ru%2Fv1%2Ffile%2F65420b82d2b6381af066dba8%2F924&w=3840&q=75\",\n",
    "            \"https://russpass.ru/mesta-i-sobytiya/_next/image?url=https%3A%2F%2Fcms.russpass.ru%2Fv1%2Ffile%2F652400ac2faec1be5888a10a%2F924&w=3840&q=75\",\n",
    "            \"https://russpass.ru/mesta-i-sobytiya/_next/image?url=https%3A%2F%2Fcms.russpass.ru%2Fv1%2Ffile%2F623982d6994c9997315b67ab%2F924&w=3840&q=75\",\n",
    "            \"https://russpass.ru/mesta-i-sobytiya/_next/image?url=https%3A%2F%2Fcms.russpass.ru%2Fv1%2Ffile%2F623982c6994c9997315b66ff%2F924&w=3840&q=75\",\n",
    "            \"https://russpass.ru/mesta-i-sobytiya/_next/image?url=https%3A%2F%2Fcms.russpass.ru%2Fv1%2Ffile%2F623982da98e199bbd30c92c1%2F924&w=3840&q=75\",\n",
    "            \"https://russpass.ru/mesta-i-sobytiya/_next/image?url=https%3A%2F%2Fcms.russpass.ru%2Fv1%2Ffile%2F660fcfe8e6f042f1b71d4dd3%2F924&w=3840&q=75\",\n",
    "            \"https://russpass.ru/mesta-i-sobytiya/_next/image?url=https%3A%2F%2Fcms.russpass.ru%2Fv1%2Ffile%2F660a8004e8caad7a6aba7062%2F924&w=3840&q=75\",\n",
    "            \"https://russpass.ru/mesta-i-sobytiya/_next/image?url=https%3A%2F%2Fcms.russpass.ru%2Fv1%2Ffile%2F65b39ea810de61faf900dd4f%2F924&w=3840&q=75\",\n",
    "        ]\n",
    "    )\n",
    "    reviews = name_to_reviews.get(event[\"name\"])\n",
    "    if reviews is not None:\n",
    "        event[\"reviews\"] = reviews[\"reviews\"]\n",
    "\n",
    "        # print(event[\"reviews\"])\n",
    "\n",
    "    events_parsed.append(Event.parse_obj(event))\n",
    "\n",
    "len(events_parsed)"
   ]
  },
  {
   "cell_type": "code",
   "execution_count": 6,
   "metadata": {},
   "outputs": [
    {
     "data": {
      "text/plain": [
       "[['Испанская'],\n",
       " ['Русская'],\n",
       " ['Итальянская', 'Европейская', 'Авторская'],\n",
       " ['Русская'],\n",
       " ['Авторская', 'Кавказская'],\n",
       " ['Грузинская'],\n",
       " ['Русская'],\n",
       " ['Европейская', 'Японская', 'Паназиатская', 'Китайская'],\n",
       " ['Грузинская']]"
      ]
     },
     "execution_count": 6,
     "metadata": {},
     "output_type": "execute_result"
    }
   ],
   "source": [
    "restaurants_parsed = []\n",
    "for restaurant in restaurants:\n",
    "    restaurant[\"id\"] = ulid_as_uuid()\n",
    "    restaurant[\"restaurant_type\"] = restaurant.get(\"type\")\n",
    "    restaurant[\"type\"] = EventType.RESTAURANT\n",
    "    restaurant[\"lat\"] = restaurant.get(\"latitude\")\n",
    "    restaurant[\"lng\"] = restaurant.get(\"longitude\")\n",
    "    restaurant[\"img_link\"] = random.choice(\n",
    "        [\n",
    "            \"https://cms.russpass.ru/v1/file/657aed9a3796b43717403233\",\n",
    "            \"https://cms.russpass.ru/v1/file/657aed9a3796b43717403213\",\n",
    "            \"https://cms.russpass.ru/v1/file/658159e398923097942d3731\",\n",
    "        ]\n",
    "    )\n",
    "    restaurants_parsed.append(Event.parse_obj(restaurant))\n",
    "\n",
    "len(restaurants_parsed)\n",
    "[restaurants.restaurant_type for restaurants in restaurants_parsed]"
   ]
  },
  {
   "cell_type": "code",
   "execution_count": 7,
   "metadata": {},
   "outputs": [],
   "source": [
    "events = Events(events=restaurants_parsed + events_parsed)"
   ]
  },
  {
   "cell_type": "code",
   "execution_count": 8,
   "metadata": {},
   "outputs": [
    {
     "name": "stderr",
     "output_type": "stream",
     "text": [
      "\u001b[32m2024-04-07 04:25:06.551\u001b[0m | \u001b[1mINFO    \u001b[0m | \u001b[36mrepository.pg_repository\u001b[0m:\u001b[36mdelete_events\u001b[0m:\u001b[36m75\u001b[0m - \u001b[1mDELETING EVENTS!\u001b[0m\n"
     ]
    }
   ],
   "source": [
    "container.heath_service.pg_repository.delete_events()"
   ]
  },
  {
   "cell_type": "code",
   "execution_count": 9,
   "metadata": {},
   "outputs": [],
   "source": [
    "container.heath_service.pg_repository.insert_events(events)"
   ]
  },
  {
   "cell_type": "code",
   "execution_count": 10,
   "metadata": {},
   "outputs": [
    {
     "data": {
      "text/plain": [
       "81"
      ]
     },
     "execution_count": 10,
     "metadata": {},
     "output_type": "execute_result"
    }
   ],
   "source": [
    "all_events = container.heath_service.pg_repository.get_events().events\n",
    "len(all_events)"
   ]
  },
  {
   "cell_type": "code",
   "execution_count": 14,
   "metadata": {},
   "outputs": [
    {
     "data": {
      "text/plain": [
       "2"
      ]
     },
     "execution_count": 14,
     "metadata": {},
     "output_type": "execute_result"
    }
   ],
   "source": [
    "documents = {EventType.EVENT: [], EventType.RESTAURANT: []}\n",
    "for event in all_events:\n",
    "    doc = Document(\n",
    "        page_content=event.description,\n",
    "        metadata={\n",
    "            \"event_type\": event.type_,\n",
    "            \"name\": event.name,\n",
    "            \"price\": float(event.price),\n",
    "            \"type\": event.restaurant_type,\n",
    "            \"location\": event.address,\n",
    "        },\n",
    "    )\n",
    "    documents[event.type_].append(doc)\n",
    "len(documents)"
   ]
  },
  {
   "cell_type": "code",
   "execution_count": 16,
   "metadata": {},
   "outputs": [],
   "source": [
    "# container.chat_service.retrieval_manager.add_documents(EventType.EVENT, documents[EventType.EVENT])\n",
    "# container.chat_service.retrieval_manager.add_documents(EventType.RESTAURANT, documents[EventType.RESTAURANT])"
   ]
  },
  {
   "cell_type": "code",
   "execution_count": null,
   "metadata": {},
   "outputs": [],
   "source": []
  }
 ],
 "metadata": {
  "kernelspec": {
   "display_name": "Python 3 (ipykernel)",
   "language": "python",
   "name": "python3"
  },
  "language_info": {
   "codemirror_mode": {
    "name": "ipython",
    "version": 3
   },
   "file_extension": ".py",
   "mimetype": "text/x-python",
   "name": "python",
   "nbconvert_exporter": "python",
   "pygments_lexer": "ipython3",
   "version": "3.11.7"
  }
 },
 "nbformat": 4,
 "nbformat_minor": 4
}
