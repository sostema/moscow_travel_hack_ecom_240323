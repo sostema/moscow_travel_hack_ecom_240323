{
 "cells": [
  {
   "cell_type": "code",
   "execution_count": 1,
   "metadata": {},
   "outputs": [
    {
     "ename": "ModuleNotFoundError",
     "evalue": "No module named 'ujson'",
     "output_type": "error",
     "traceback": [
      "\u001b[0;31m---------------------------------------------------------------------------\u001b[0m",
      "\u001b[0;31mModuleNotFoundError\u001b[0m                       Traceback (most recent call last)",
      "Cell \u001b[0;32mIn[1], line 3\u001b[0m\n\u001b[1;32m      1\u001b[0m \u001b[38;5;28;01mimport\u001b[39;00m \u001b[38;5;21;01mrandom\u001b[39;00m\n\u001b[0;32m----> 3\u001b[0m \u001b[38;5;28;01mimport\u001b[39;00m \u001b[38;5;21;01mujson\u001b[39;00m\n\u001b[1;32m      4\u001b[0m \u001b[38;5;28;01mfrom\u001b[39;00m \u001b[38;5;21;01mschemas\u001b[39;00m\u001b[38;5;21;01m.\u001b[39;00m\u001b[38;5;21;01mevent\u001b[39;00m \u001b[38;5;28;01mimport\u001b[39;00m Event, Events, EventType\n\u001b[1;32m      5\u001b[0m \u001b[38;5;28;01mfrom\u001b[39;00m \u001b[38;5;21;01mshared\u001b[39;00m\u001b[38;5;21;01m.\u001b[39;00m\u001b[38;5;21;01mcontainers\u001b[39;00m \u001b[38;5;28;01mimport\u001b[39;00m init_combat_container\n",
      "\u001b[0;31mModuleNotFoundError\u001b[0m: No module named 'ujson'"
     ]
    }
   ],
   "source": [
    "import random\n",
    "\n",
    "import ujson\n",
    "from schemas.event import Event, Events, EventType\n",
    "from shared.containers import init_combat_container\n",
    "from shared.ulid import ulid_as_uuid"
   ]
  },
  {
   "cell_type": "code",
   "execution_count": 2,
   "metadata": {},
   "outputs": [
    {
     "name": "stderr",
     "output_type": "stream",
     "text": [
      "/Users/teadove/projects/moscow_travel_hack_ecom_240323/backend/.venv/lib/python3.11/site-packages/tqdm/auto.py:21: TqdmWarning: IProgress not found. Please update jupyter and ipywidgets. See https://ipywidgets.readthedocs.io/en/stable/user_install.html\n",
      "  from .autonotebook import tqdm as notebook_tqdm\n",
      "/Users/teadove/projects/moscow_travel_hack_ecom_240323/backend/.venv/lib/python3.11/site-packages/langchain_community/vectorstores/pgvector.py:293: LangChainPendingDeprecationWarning: Please use JSONB instead of JSON for metadata. This change will allow for more efficient querying that involves filtering based on metadata.Please note that filtering operators have been changed when using JSOB metadata to be prefixed with a $ sign to avoid name collisions with columns. If you're using an existing database, you will need to create adb migration for your metadata column to be JSONB and update your queries to use the new operators. \n",
      "  warn_deprecated(\n"
     ]
    }
   ],
   "source": [
    "container = init_combat_container()"
   ]
  },
  {
   "cell_type": "code",
   "execution_count": 3,
   "metadata": {},
   "outputs": [
    {
     "data": {
      "text/plain": [
       "(9, 72)"
      ]
     },
     "execution_count": 3,
     "metadata": {},
     "output_type": "execute_result"
    }
   ],
   "source": [
    "cite_data = ujson.loads(open(\"cite_data.json\").read())\n",
    "restaurants = cite_data[\"restaurants\"]\n",
    "events = cite_data[\"events\"]\n",
    "reviews = ujson.loads(open(\"ml/data/with_reviews.json\").read())\n",
    "len(restaurants), len(events)"
   ]
  },
  {
   "cell_type": "code",
   "execution_count": 4,
   "metadata": {},
   "outputs": [
    {
     "data": {
      "text/plain": [
       "45"
      ]
     },
     "execution_count": 4,
     "metadata": {},
     "output_type": "execute_result"
    }
   ],
   "source": [
    "name_to_reviews = reviews[\"restaurants\"] + reviews[\"events\"]\n",
    "name_to_reviews = {\n",
    "    reviews[\"name\"]: reviews for reviews in reviews[\"restaurants\"] + reviews[\"events\"]\n",
    "}\n",
    "len(name_to_reviews)"
   ]
  },
  {
   "cell_type": "code",
   "execution_count": 5,
   "metadata": {},
   "outputs": [
    {
     "data": {
      "text/plain": [
       "72"
      ]
     },
     "execution_count": 5,
     "metadata": {},
     "output_type": "execute_result"
    }
   ],
   "source": [
    "events_parsed = []\n",
    "for event in events:\n",
    "    event[\"id\"] = ulid_as_uuid()\n",
    "    event[\"type\"] = EventType.EVENT\n",
    "    event[\"lat\"] = event.get(\"latitude\")\n",
    "    event[\"lng\"] = event.get(\"longitude\")\n",
    "    event[\"img_link\"] = random.choice(\n",
    "        [\n",
    "            \"https://russpass.ru/mesta-i-sobytiya/_next/image?url=https%3A%2F%2Fcms.russpass.ru%2Fv1%2Ffile%2F65420ad0d2b6381af066b9f9%2F924&w=3840&q=75\",\n",
    "            \"https://russpass.ru/mesta-i-sobytiya/_next/image?url=https%3A%2F%2Fcms.russpass.ru%2Fv1%2Ffile%2F65420b82d2b6381af066dba8%2F924&w=3840&q=75\",\n",
    "            \"https://russpass.ru/mesta-i-sobytiya/_next/image?url=https%3A%2F%2Fcms.russpass.ru%2Fv1%2Ffile%2F652400ac2faec1be5888a10a%2F924&w=3840&q=75\",\n",
    "            \"https://russpass.ru/mesta-i-sobytiya/_next/image?url=https%3A%2F%2Fcms.russpass.ru%2Fv1%2Ffile%2F623982d6994c9997315b67ab%2F924&w=3840&q=75\",\n",
    "            \"https://russpass.ru/mesta-i-sobytiya/_next/image?url=https%3A%2F%2Fcms.russpass.ru%2Fv1%2Ffile%2F623982c6994c9997315b66ff%2F924&w=3840&q=75\",\n",
    "            \"https://russpass.ru/mesta-i-sobytiya/_next/image?url=https%3A%2F%2Fcms.russpass.ru%2Fv1%2Ffile%2F623982da98e199bbd30c92c1%2F924&w=3840&q=75\",\n",
    "            \"https://russpass.ru/mesta-i-sobytiya/_next/image?url=https%3A%2F%2Fcms.russpass.ru%2Fv1%2Ffile%2F660fcfe8e6f042f1b71d4dd3%2F924&w=3840&q=75\",\n",
    "            \"https://russpass.ru/mesta-i-sobytiya/_next/image?url=https%3A%2F%2Fcms.russpass.ru%2Fv1%2Ffile%2F660a8004e8caad7a6aba7062%2F924&w=3840&q=75\",\n",
    "            \"https://russpass.ru/mesta-i-sobytiya/_next/image?url=https%3A%2F%2Fcms.russpass.ru%2Fv1%2Ffile%2F65b39ea810de61faf900dd4f%2F924&w=3840&q=75\",\n",
    "        ]\n",
    "    )\n",
    "    review = name_to_reviews.get(event[\"name\"])\n",
    "    if review is not None:\n",
    "        event[\"reviews\"] = review[\"reviews\"]\n",
    "\n",
    "    events_parsed.append(Event.parse_obj(event))\n",
    "\n",
    "len(events_parsed)"
   ]
  },
  {
   "cell_type": "code",
   "execution_count": 6,
   "metadata": {},
   "outputs": [
    {
     "data": {
      "text/plain": [
       "[['Испанская'],\n",
       " ['Русская'],\n",
       " ['Итальянская', 'Европейская', 'Авторская'],\n",
       " ['Русская'],\n",
       " ['Авторская', 'Кавказская'],\n",
       " ['Грузинская'],\n",
       " ['Русская'],\n",
       " ['Европейская', 'Японская', 'Паназиатская', 'Китайская'],\n",
       " ['Грузинская']]"
      ]
     },
     "execution_count": 6,
     "metadata": {},
     "output_type": "execute_result"
    }
   ],
   "source": [
    "restaurants_parsed = []\n",
    "for restaurant in restaurants:\n",
    "    restaurant[\"id\"] = ulid_as_uuid()\n",
    "    restaurant[\"restaurant_type\"] = restaurant.get(\"type\")\n",
    "    restaurant[\"type\"] = EventType.RESTAURANT\n",
    "    restaurant[\"lat\"] = restaurant.get(\"latitude\")\n",
    "    restaurant[\"lng\"] = restaurant.get(\"longitude\")\n",
    "    restaurant[\"img_link\"] = random.choice(\n",
    "        [\n",
    "            \"https://cms.russpass.ru/v1/file/657aed9a3796b43717403233\",\n",
    "            \"https://cms.russpass.ru/v1/file/657aed9a3796b43717403213\",\n",
    "            \"https://cms.russpass.ru/v1/file/658159e398923097942d3731\",\n",
    "        ]\n",
    "    )\n",
    "    restaurants_parsed.append(Event.parse_obj(restaurant))\n",
    "\n",
    "len(restaurants_parsed)\n",
    "[restaurants.restaurant_type for restaurants in restaurants_parsed]"
   ]
  },
  {
   "cell_type": "code",
   "execution_count": 34,
   "metadata": {},
   "outputs": [],
   "source": [
    "events = Events(events=restaurants_parsed + events_parsed)"
   ]
  },
  {
   "cell_type": "code",
   "execution_count": 7,
   "metadata": {},
   "outputs": [
    {
     "ename": "AttributeError",
     "evalue": "'list' object has no attribute 'events'",
     "output_type": "error",
     "traceback": [
      "\u001b[0;31m---------------------------------------------------------------------------\u001b[0m",
      "\u001b[0;31mAttributeError\u001b[0m                            Traceback (most recent call last)",
      "Cell \u001b[0;32mIn[7], line 1\u001b[0m\n\u001b[0;32m----> 1\u001b[0m \u001b[43mcontainer\u001b[49m\u001b[38;5;241;43m.\u001b[39;49m\u001b[43mheath_service\u001b[49m\u001b[38;5;241;43m.\u001b[39;49m\u001b[43mpg_repository\u001b[49m\u001b[38;5;241;43m.\u001b[39;49m\u001b[43minsert_events\u001b[49m\u001b[43m(\u001b[49m\u001b[43mevents\u001b[49m\u001b[43m)\u001b[49m\n",
      "File \u001b[0;32m~/projects/moscow_travel_hack_ecom_240323/backend/repository/pg_repository.py:76\u001b[0m, in \u001b[0;36mPgRepository.insert_events\u001b[0;34m(self, events)\u001b[0m\n\u001b[1;32m     74\u001b[0m \u001b[38;5;28;01mdef\u001b[39;00m \u001b[38;5;21minsert_events\u001b[39m(\u001b[38;5;28mself\u001b[39m, events: Events) \u001b[38;5;241m-\u001b[39m\u001b[38;5;241m>\u001b[39m \u001b[38;5;28;01mNone\u001b[39;00m:\n\u001b[1;32m     75\u001b[0m     \u001b[38;5;28;01mwith\u001b[39;00m \u001b[38;5;28mself\u001b[39m\u001b[38;5;241m.\u001b[39m_engine\u001b[38;5;241m.\u001b[39mconnect() \u001b[38;5;28;01mas\u001b[39;00m session:\n\u001b[0;32m---> 76\u001b[0m         \u001b[38;5;28;01mfor\u001b[39;00m event \u001b[38;5;129;01min\u001b[39;00m \u001b[43mevents\u001b[49m\u001b[38;5;241;43m.\u001b[39;49m\u001b[43mevents\u001b[49m:\n\u001b[1;32m     77\u001b[0m             session\u001b[38;5;241m.\u001b[39mexecute(\n\u001b[1;32m     78\u001b[0m                 insert(EventDB)\u001b[38;5;241m.\u001b[39mvalues(\n\u001b[1;32m     79\u001b[0m                     \u001b[38;5;28mtype\u001b[39m\u001b[38;5;241m=\u001b[39mevent\u001b[38;5;241m.\u001b[39mtype_,\n\u001b[0;32m   (...)\u001b[0m\n\u001b[1;32m     91\u001b[0m                 )\n\u001b[1;32m     92\u001b[0m             )\n\u001b[1;32m     93\u001b[0m         session\u001b[38;5;241m.\u001b[39mcommit()\n",
      "\u001b[0;31mAttributeError\u001b[0m: 'list' object has no attribute 'events'"
     ]
    }
   ],
   "source": [
    "container.heath_service.pg_repository.insert_events(events)"
   ]
  },
  {
   "cell_type": "code",
   "execution_count": 36,
   "metadata": {},
   "outputs": [
    {
     "data": {
      "text/plain": [
       "162"
      ]
     },
     "execution_count": 36,
     "metadata": {},
     "output_type": "execute_result"
    }
   ],
   "source": [
    "len(container.heath_service.pg_repository.get_events().events)"
   ]
  },
  {
   "cell_type": "code",
   "execution_count": null,
   "metadata": {},
   "outputs": [],
   "source": []
  }
 ],
 "metadata": {
  "kernelspec": {
   "display_name": "Python 3 (ipykernel)",
   "language": "python",
   "name": "python3"
  },
  "language_info": {
   "codemirror_mode": {
    "name": "ipython",
    "version": 3
   },
   "file_extension": ".py",
   "mimetype": "text/x-python",
   "name": "python",
   "nbconvert_exporter": "python",
   "pygments_lexer": "ipython3",
   "version": "3.10.12"
  }
 },
 "nbformat": 4,
 "nbformat_minor": 4
}
