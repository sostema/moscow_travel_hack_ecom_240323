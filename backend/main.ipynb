{
 "cells": [
  {
   "cell_type": "code",
   "execution_count": 22,
   "metadata": {},
   "outputs": [],
   "source": [
    "import random\n",
    "\n",
    "import ujson\n",
    "from langchain.docstore.document import Document\n",
    "from schemas.event import Event, Events, EventType\n",
    "from shared.containers import init_combat_container\n",
    "from shared.ulid import ulid_as_uuid"
   ]
  },
  {
   "cell_type": "code",
   "execution_count": 23,
   "metadata": {},
   "outputs": [],
   "source": [
    "container = init_combat_container()"
   ]
  },
  {
   "cell_type": "code",
   "execution_count": 24,
   "metadata": {},
   "outputs": [
    {
     "data": {
      "text/plain": [
       "(9, 72)"
      ]
     },
     "execution_count": 24,
     "metadata": {},
     "output_type": "execute_result"
    }
   ],
   "source": [
    "cite_data = ujson.loads(open(\"cite_data.json\").read())\n",
    "restaurants = cite_data[\"restaurants\"]\n",
    "events = cite_data[\"events\"]\n",
    "reviews = ujson.loads(open(\"ml/data/with_reviews.json\").read())\n",
    "len(restaurants), len(events)"
   ]
  },
  {
   "cell_type": "code",
   "execution_count": 25,
   "metadata": {},
   "outputs": [
    {
     "data": {
      "text/plain": [
       "['Музей ВДНХ - это уникальное место, где можно окунуться в историю и атмосферу советского времени. Здесь собраны редкие фотографии, чертежи павильонов и другие экспонаты, которые позволяют почувствовать дух того времени. Я рекомендую посетить этот музей всем, кто интересуется историей и культурой СССР.',\n",
       " 'Музей ВДНХ - это уникальное место, где можно окунуться в историю и атмосферу советского времени. Здесь собраны редкие фотографии, чертежи павильонов и другие экспонаты, которые позволяют почувствовать дух того времени. Я рекомендую посетить этот музей всем, кто интересуется историей и культурой СССР.',\n",
       " 'Музей ВДНХ - это уникальное место, где можно окунуться в историю и атмосферу советского времени. Здесь собраны редкие фотографии, чертежи павильонов и другие экспонаты, которые позволяют почувствовать дух того времени. Я рекомендую посетить этот музей всем, кто интересуется историей и культурой СССР.',\n",
       " 'Музей ВДНХ - это уникальное место, где можно окунуться в историю и атмосферу советского времени. Здесь собраны редкие фотографии, чертежи павильонов и другие экспонаты, которые позволяют почувствовать дух того времени. Я рекомендую посетить этот музей всем, кто интересуется историей и культурой СССР.',\n",
       " 'Музей ВДНХ - это уникальное место, где можно окунуться в историю и атмосферу советского времени. Здесь собраны редкие фотографии, чертежи павильонов и другие экспонаты, которые позволяют почувствовать дух того времени. Я рекомендую посетить этот музей всем, кто интересуется историей и культурой СССР.']"
      ]
     },
     "execution_count": 25,
     "metadata": {},
     "output_type": "execute_result"
    }
   ],
   "source": [
    "name_to_reviews = reviews[\"restaurants\"] + reviews[\"events\"]\n",
    "name_to_reviews = {\n",
    "    reviews[\"name\"]: reviews for reviews in reviews[\"restaurants\"] + reviews[\"events\"]\n",
    "}\n",
    "len(name_to_reviews)\n",
    "\n",
    "name_to_reviews[\"Музей ВДНХ\"][\"reviews\"]"
   ]
  },
  {
   "cell_type": "code",
   "execution_count": 26,
   "metadata": {},
   "outputs": [
    {
     "data": {
      "text/plain": [
       "72"
      ]
     },
     "execution_count": 26,
     "metadata": {},
     "output_type": "execute_result"
    }
   ],
   "source": [
    "events_parsed = []\n",
    "for event in events:\n",
    "    event[\"id\"] = ulid_as_uuid()\n",
    "    event[\"type\"] = EventType.EVENT\n",
    "    event[\"lat\"] = event.get(\"latitude\")\n",
    "    event[\"lng\"] = event.get(\"longitude\")\n",
    "    event[\"img_link\"] = random.choice(\n",
    "        [\n",
    "            \"https://russpass.ru/mesta-i-sobytiya/_next/image?url=https%3A%2F%2Fcms.russpass.ru%2Fv1%2Ffile%2F65420ad0d2b6381af066b9f9%2F924&w=3840&q=75\",\n",
    "            \"https://russpass.ru/mesta-i-sobytiya/_next/image?url=https%3A%2F%2Fcms.russpass.ru%2Fv1%2Ffile%2F65420b82d2b6381af066dba8%2F924&w=3840&q=75\",\n",
    "            \"https://russpass.ru/mesta-i-sobytiya/_next/image?url=https%3A%2F%2Fcms.russpass.ru%2Fv1%2Ffile%2F652400ac2faec1be5888a10a%2F924&w=3840&q=75\",\n",
    "            \"https://russpass.ru/mesta-i-sobytiya/_next/image?url=https%3A%2F%2Fcms.russpass.ru%2Fv1%2Ffile%2F623982d6994c9997315b67ab%2F924&w=3840&q=75\",\n",
    "            \"https://russpass.ru/mesta-i-sobytiya/_next/image?url=https%3A%2F%2Fcms.russpass.ru%2Fv1%2Ffile%2F623982c6994c9997315b66ff%2F924&w=3840&q=75\",\n",
    "            \"https://russpass.ru/mesta-i-sobytiya/_next/image?url=https%3A%2F%2Fcms.russpass.ru%2Fv1%2Ffile%2F623982da98e199bbd30c92c1%2F924&w=3840&q=75\",\n",
    "            \"https://russpass.ru/mesta-i-sobytiya/_next/image?url=https%3A%2F%2Fcms.russpass.ru%2Fv1%2Ffile%2F660fcfe8e6f042f1b71d4dd3%2F924&w=3840&q=75\",\n",
    "            \"https://russpass.ru/mesta-i-sobytiya/_next/image?url=https%3A%2F%2Fcms.russpass.ru%2Fv1%2Ffile%2F660a8004e8caad7a6aba7062%2F924&w=3840&q=75\",\n",
    "            \"https://russpass.ru/mesta-i-sobytiya/_next/image?url=https%3A%2F%2Fcms.russpass.ru%2Fv1%2Ffile%2F65b39ea810de61faf900dd4f%2F924&w=3840&q=75\",\n",
    "        ]\n",
    "    )\n",
    "    reviews = name_to_reviews.get(event[\"name\"])\n",
    "    if reviews is not None:\n",
    "        event[\"reviews\"] = reviews[\"reviews\"]\n",
    "\n",
    "        # print(event[\"reviews\"])\n",
    "\n",
    "    events_parsed.append(Event.parse_obj(event))\n",
    "\n",
    "len(events_parsed)"
   ]
  },
  {
   "cell_type": "code",
   "execution_count": 27,
   "metadata": {},
   "outputs": [
    {
     "data": {
      "text/plain": [
       "[['Испанская'],\n",
       " ['Русская'],\n",
       " ['Итальянская', 'Европейская', 'Авторская'],\n",
       " ['Русская'],\n",
       " ['Авторская', 'Кавказская'],\n",
       " ['Грузинская'],\n",
       " ['Русская'],\n",
       " ['Европейская', 'Японская', 'Паназиатская', 'Китайская'],\n",
       " ['Грузинская']]"
      ]
     },
     "execution_count": 27,
     "metadata": {},
     "output_type": "execute_result"
    }
   ],
   "source": [
    "restaurant_links = {\n",
    "    \"Ресторан VERD\": \"https://russpass.ru/restaurant/64240869cfc508abfb4ef904\",\n",
    "    \"Ресторан Niki\": \"https://cms.russpass.ru/v1/file/63fdd193961d4400a3a120a0\",\n",
    "    \"Ресторан Pinzeria by Bontempi на Шлюзовой\": \"https://cms.russpass.ru/v1/file/658159e398923097942d3731\",\n",
    "    \"Кафе Пушкинъ\": \"https://cms.russpass.ru/v1/file/63ac030980a711c750989d9b\",\n",
    "    \"Ресторан Folk\": \"https://cms.russpass.ru/v1/file/63ca57244ddfad493ca37e46\",\n",
    "    \"Ресторан Didi\": \"https://cms.russpass.ru/v1/file/63aad25769a3fd75ac4cb541\",\n",
    "    \"Ресторан Центрального дома литераторов\": \"https://cms.russpass.ru/v1/file/63aad25769a3fd75ac4cb541\",\n",
    "    \"Ресторан «Турандот»\": \"https://cms.russpass.ru/v1/file/651adef773768bf24d5d9383\",\n",
    "    \"Ресторан Hedonist\": \"https://cms.russpass.ru/v1/file/63e369fe961d4400a3ef1f76\",\n",
    "}\n",
    "restaurants_parsed = []\n",
    "for restaurant in restaurants:\n",
    "    restaurant[\"id\"] = ulid_as_uuid()\n",
    "    restaurant[\"restaurant_type\"] = restaurant.get(\"type\")\n",
    "    restaurant[\"type\"] = EventType.RESTAURANT\n",
    "    restaurant[\"lat\"] = restaurant.get(\"latitude\")\n",
    "    restaurant[\"lng\"] = restaurant.get(\"longitude\")\n",
    "    restaurant[\"img_link\"] = restaurant_links[restaurant[\"name\"]]\n",
    "    restaurants_parsed.append(Event.parse_obj(restaurant))\n",
    "\n",
    "len(restaurants_parsed)\n",
    "[restaurants.restaurant_type for restaurants in restaurants_parsed]"
   ]
  },
  {
   "cell_type": "code",
   "execution_count": 28,
   "metadata": {},
   "outputs": [],
   "source": [
    "events = Events(events=restaurants_parsed + events_parsed)"
   ]
  },
  {
   "cell_type": "code",
   "execution_count": 29,
   "metadata": {},
   "outputs": [
    {
     "name": "stderr",
     "output_type": "stream",
     "text": [
      "\u001b[32m2024-04-07 10:52:56.039\u001b[0m | \u001b[1mINFO    \u001b[0m | \u001b[36mrepository.pg_repository\u001b[0m:\u001b[36mdelete_events\u001b[0m:\u001b[36m78\u001b[0m - \u001b[1mDELETING EVENTS!\u001b[0m\n"
     ]
    }
   ],
   "source": [
    "container.heath_service.pg_repository.delete_events()\n",
    "container = init_combat_container()"
   ]
  },
  {
   "cell_type": "code",
   "execution_count": 30,
   "metadata": {},
   "outputs": [],
   "source": [
    "container.heath_service.pg_repository.insert_events(events)"
   ]
  },
  {
   "cell_type": "code",
   "execution_count": 31,
   "metadata": {},
   "outputs": [
    {
     "data": {
      "text/plain": [
       "81"
      ]
     },
     "execution_count": 31,
     "metadata": {},
     "output_type": "execute_result"
    }
   ],
   "source": [
    "all_events = container.heath_service.pg_repository.get_events().events\n",
    "len(all_events)"
   ]
  },
  {
   "cell_type": "code",
   "execution_count": 11,
   "metadata": {},
   "outputs": [
    {
     "data": {
      "text/plain": [
       "2"
      ]
     },
     "execution_count": 11,
     "metadata": {},
     "output_type": "execute_result"
    }
   ],
   "source": [
    "documents = {EventType.EVENT: [], EventType.RESTAURANT: []}\n",
    "for event in all_events:\n",
    "    doc = Document(\n",
    "        page_content=event.description,\n",
    "        metadata=event.export_metadata(),\n",
    "    )\n",
    "    documents[event.type_].append(doc)\n",
    "len(documents)"
   ]
  },
  {
   "cell_type": "code",
   "execution_count": 18,
   "metadata": {},
   "outputs": [
    {
     "name": "stderr",
     "output_type": "stream",
     "text": [
      "\u001b[32m2024-04-07 04:42:50.304\u001b[0m | \u001b[1mINFO    \u001b[0m | \u001b[36mrepository.pg_repository\u001b[0m:\u001b[36mdelete_embeddings\u001b[0m:\u001b[36m81\u001b[0m - \u001b[1mDELETING EMBEDDING!\u001b[0m\n"
     ]
    }
   ],
   "source": [
    "container.heath_service.pg_repository.delete_embeddings()"
   ]
  },
  {
   "cell_type": "code",
   "execution_count": 12,
   "metadata": {},
   "outputs": [],
   "source": [
    "container.chat_service.retrieval_manager.add_documents(\n",
    "    EventType.EVENT, documents[EventType.EVENT]\n",
    ")\n",
    "container.chat_service.retrieval_manager.add_documents(\n",
    "    EventType.RESTAURANT, documents[EventType.RESTAURANT]\n",
    ")"
   ]
  },
  {
   "cell_type": "code",
   "execution_count": null,
   "metadata": {},
   "outputs": [],
   "source": []
  }
 ],
 "metadata": {
  "kernelspec": {
   "display_name": "Python 3 (ipykernel)",
   "language": "python",
   "name": "python3"
  },
  "language_info": {
   "codemirror_mode": {
    "name": "ipython",
    "version": 3
   },
   "file_extension": ".py",
   "mimetype": "text/x-python",
   "name": "python",
   "nbconvert_exporter": "python",
   "pygments_lexer": "ipython3",
   "version": "3.11.7"
  }
 },
 "nbformat": 4,
 "nbformat_minor": 4
}
